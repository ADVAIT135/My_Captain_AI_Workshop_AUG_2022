{
  "nbformat": 4,
  "nbformat_minor": 0,
  "metadata": {
    "colab": {
      "name": "My_Captain_AI_Workshop_Task_2_Displaying_Hello_world.ipynb",
      "provenance": [],
      "authorship_tag": "ABX9TyMRMgbrtyKwmFHC7BktAmxm",
      "include_colab_link": true
    },
    "kernelspec": {
      "name": "python3",
      "display_name": "Python 3"
    },
    "language_info": {
      "name": "python"
    }
  },
  "cells": [
    {
      "cell_type": "markdown",
      "metadata": {
        "id": "view-in-github",
        "colab_type": "text"
      },
      "source": [
        "<a href=\"https://colab.research.google.com/github/ADVAIT135/My_Captain_AI_Workshop_AUG_2022/blob/main/My_Captain_AI_Workshop_Task_2_Displaying_Hello_world.ipynb\" target=\"_parent\"><img src=\"https://colab.research.google.com/assets/colab-badge.svg\" alt=\"Open In Colab\"/></a>"
      ]
    },
    {
      "cell_type": "code",
      "execution_count": 1,
      "metadata": {
        "id": "Y4YGDh5o4MnU"
      },
      "outputs": [],
      "source": [
        "#\"Hello World!\" -> Just a comment"
      ]
    },
    {
      "cell_type": "code",
      "source": [
        "#Hello World -> Just a comment"
      ],
      "metadata": {
        "id": "3Suk64xE42tU"
      },
      "execution_count": 2,
      "outputs": []
    },
    {
      "cell_type": "code",
      "source": [
        "print(\"Hello World!!\") #This is a print() function to print anything given inside the braces"
      ],
      "metadata": {
        "colab": {
          "base_uri": "https://localhost:8080/"
        },
        "id": "RMsZ7GF45Afg",
        "outputId": "55846d2c-6943-4b8a-dac9-4c74ebd1efcd"
      },
      "execution_count": 3,
      "outputs": [
        {
          "output_type": "stream",
          "name": "stdout",
          "text": [
            "Hello World!!\n"
          ]
        }
      ]
    },
    {
      "cell_type": "code",
      "source": [
        "greet = \"Hello Advait!!\"\n",
        "print(greet)"
      ],
      "metadata": {
        "colab": {
          "base_uri": "https://localhost:8080/"
        },
        "id": "ZeT4dYid5Ng1",
        "outputId": "82a282e0-bec7-4f41-f18e-60c3f11c0dc0"
      },
      "execution_count": 5,
      "outputs": [
        {
          "output_type": "stream",
          "name": "stdout",
          "text": [
            "Hello Advait!!\n"
          ]
        }
      ]
    },
    {
      "cell_type": "code",
      "source": [
        "greet"
      ],
      "metadata": {
        "colab": {
          "base_uri": "https://localhost:8080/",
          "height": 35
        },
        "id": "UmSVswEI5PUg",
        "outputId": "48965a74-dfa0-4606-dce7-d73ed4f5e0fd"
      },
      "execution_count": 6,
      "outputs": [
        {
          "output_type": "execute_result",
          "data": {
            "text/plain": [
              "'Hello Advait!!'"
            ],
            "application/vnd.google.colaboratory.intrinsic+json": {
              "type": "string"
            }
          },
          "metadata": {},
          "execution_count": 6
        }
      ]
    },
    {
      "cell_type": "code",
      "source": [
        "greet_1 = 'Hello Advait! How are you?'\n",
        "greet_1\n"
      ],
      "metadata": {
        "colab": {
          "base_uri": "https://localhost:8080/",
          "height": 35
        },
        "id": "gxiCM-Uh5aFO",
        "outputId": "37fd155f-c382-4f80-c3f7-9fe19e209465"
      },
      "execution_count": 8,
      "outputs": [
        {
          "output_type": "execute_result",
          "data": {
            "text/plain": [
              "'Hello Advait! How are you?'"
            ],
            "application/vnd.google.colaboratory.intrinsic+json": {
              "type": "string"
            }
          },
          "metadata": {},
          "execution_count": 8
        }
      ]
    },
    {
      "cell_type": "code",
      "source": [
        "print(greet_1)"
      ],
      "metadata": {
        "colab": {
          "base_uri": "https://localhost:8080/"
        },
        "id": "ahXNY7zT5own",
        "outputId": "52eba0e6-4f23-4d59-92ce-37df5fb5d737"
      },
      "execution_count": 9,
      "outputs": [
        {
          "output_type": "stream",
          "name": "stdout",
          "text": [
            "Hello Advait! How are you?\n"
          ]
        }
      ]
    },
    {
      "cell_type": "code",
      "source": [
        "for i in range(1,11):\n",
        "  print(\"Hello roll number \",i,\" nice to meet you\")"
      ],
      "metadata": {
        "colab": {
          "base_uri": "https://localhost:8080/"
        },
        "id": "mcH-kx4V5u4K",
        "outputId": "2e1775fa-43ae-41a8-c94a-502890a54038"
      },
      "execution_count": 10,
      "outputs": [
        {
          "output_type": "stream",
          "name": "stdout",
          "text": [
            "Hello roll number  1  nice to meet you\n",
            "Hello roll number  2  nice to meet you\n",
            "Hello roll number  3  nice to meet you\n",
            "Hello roll number  4  nice to meet you\n",
            "Hello roll number  5  nice to meet you\n",
            "Hello roll number  6  nice to meet you\n",
            "Hello roll number  7  nice to meet you\n",
            "Hello roll number  8  nice to meet you\n",
            "Hello roll number  9  nice to meet you\n",
            "Hello roll number  10  nice to meet you\n"
          ]
        }
      ]
    },
    {
      "cell_type": "code",
      "source": [
        ""
      ],
      "metadata": {
        "id": "yrAc-3Ut57Po"
      },
      "execution_count": null,
      "outputs": []
    }
  ]
}