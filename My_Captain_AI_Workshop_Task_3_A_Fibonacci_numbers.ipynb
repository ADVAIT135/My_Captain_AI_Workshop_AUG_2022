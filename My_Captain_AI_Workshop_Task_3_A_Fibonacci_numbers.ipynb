{
  "nbformat": 4,
  "nbformat_minor": 0,
  "metadata": {
    "colab": {
      "name": "My_Captain_AI_Workshop_Task_3_A_Fibonacci_numbers.ipynb",
      "provenance": [],
      "authorship_tag": "ABX9TyM7Mepmm/AtND1uRutmMEOO",
      "include_colab_link": true
    },
    "kernelspec": {
      "name": "python3",
      "display_name": "Python 3"
    },
    "language_info": {
      "name": "python"
    }
  },
  "cells": [
    {
      "cell_type": "markdown",
      "metadata": {
        "id": "view-in-github",
        "colab_type": "text"
      },
      "source": [
        "<a href=\"https://colab.research.google.com/github/ADVAIT135/My_Captain_AI_Workshop_AUG_2022/blob/main/My_Captain_AI_Workshop_Task_3_A_Fibonacci_numbers.ipynb\" target=\"_parent\"><img src=\"https://colab.research.google.com/assets/colab-badge.svg\" alt=\"Open In Colab\"/></a>"
      ]
    },
    {
      "cell_type": "code",
      "execution_count": 29,
      "metadata": {
        "colab": {
          "base_uri": "https://localhost:8080/"
        },
        "id": "xxUxSuDIAMnF",
        "outputId": "e5231302-afc1-4e59-c130-8fef6293958d"
      },
      "outputs": [
        {
          "output_type": "stream",
          "name": "stdout",
          "text": [
            "Enter any positive integer number till which you want the fibonacci series: \n",
            "20\n",
            "0,1,1,2,3,5,8,13,21,34,55,89,144,233,377,610,987,1597,2584,4181,"
          ]
        }
      ],
      "source": [
        "def fib(n):\n",
        "  print(\"Enter any positive integer number till which you want the fibonacci series: \")\n",
        "  n = int(input())\n",
        "  if ((n >= 0) & (type(n) == int)):\n",
        "    if n == 0:\n",
        "      print(\"0,\")\n",
        "    elif n == 1:\n",
        "      print(\"0,1\")\n",
        "    else:\n",
        "      a = 0\n",
        "      b = 1\n",
        "      i = 0\n",
        "      while(i < n):\n",
        "        print(a,end=\",\")\n",
        "        sum = a+b\n",
        "        a = b\n",
        "        b = sum\n",
        "        i += 1\n",
        "  else:\n",
        "    print(\"Invalid number. Please enter a integer value starting from 0\")\n",
        "fib(n)"
      ]
    },
    {
      "cell_type": "code",
      "source": [
        "fib(n)"
      ],
      "metadata": {
        "colab": {
          "base_uri": "https://localhost:8080/"
        },
        "id": "Co0MByTqFGVK",
        "outputId": "07f81f12-e2e8-48a1-ddf8-74c274589690"
      },
      "execution_count": 30,
      "outputs": [
        {
          "output_type": "stream",
          "name": "stdout",
          "text": [
            "Enter any positive integer number till which you want the fibonacci series: \n",
            "15\n",
            "0,1,1,2,3,5,8,13,21,34,55,89,144,233,377,"
          ]
        }
      ]
    },
    {
      "cell_type": "code",
      "source": [
        "fib(n)"
      ],
      "metadata": {
        "colab": {
          "base_uri": "https://localhost:8080/"
        },
        "id": "NjmjVtBBFWr8",
        "outputId": "70ecb903-2acd-449e-d33c-b2cba7aecf87"
      },
      "execution_count": 31,
      "outputs": [
        {
          "output_type": "stream",
          "name": "stdout",
          "text": [
            "Enter any positive integer number till which you want the fibonacci series: \n",
            "23\n",
            "0,1,1,2,3,5,8,13,21,34,55,89,144,233,377,610,987,1597,2584,4181,6765,10946,17711,"
          ]
        }
      ]
    },
    {
      "cell_type": "code",
      "source": [
        ""
      ],
      "metadata": {
        "id": "yflw3cmwFaJ3"
      },
      "execution_count": null,
      "outputs": []
    }
  ]
}