{
  "nbformat": 4,
  "nbformat_minor": 0,
  "metadata": {
    "colab": {
      "name": "My_Captain_AI_Workshop_Task_3_B_printing_positive_numbers_in_list.ipynb",
      "provenance": [],
      "authorship_tag": "ABX9TyP9RzaDiMkCAkWb6DwM4eLJ",
      "include_colab_link": true
    },
    "kernelspec": {
      "name": "python3",
      "display_name": "Python 3"
    },
    "language_info": {
      "name": "python"
    }
  },
  "cells": [
    {
      "cell_type": "markdown",
      "metadata": {
        "id": "view-in-github",
        "colab_type": "text"
      },
      "source": [
        "<a href=\"https://colab.research.google.com/github/ADVAIT135/My_Captain_AI_Workshop_AUG_2022/blob/main/My_Captain_AI_Workshop_Task_3_B_printing_positive_numbers_in_list.ipynb\" target=\"_parent\"><img src=\"https://colab.research.google.com/assets/colab-badge.svg\" alt=\"Open In Colab\"/></a>"
      ]
    },
    {
      "cell_type": "code",
      "source": [
        "def positive_list():\n",
        "  n = int(input(\"Enter the total number of elements you want in the list : \"))\n",
        "  list_user = []\n",
        "  list_user_positive = []\n",
        "  print(\"Enter any integer values:-\")\n",
        "  for i in range(0,n):\n",
        "    print(\"Enter the \" ,i+1, \" element of the list : \")\n",
        "    j = int(input())\n",
        "    list_user.append(j)\n",
        "  print(\"The list created by the user is :-\")\n",
        "  print(list_user)\n",
        "  \n",
        "  for j in list_user:\n",
        "    if (j > 0):\n",
        "      list_user_positive.append(j)\n",
        "  print(\"The positive integer numbers list of the numbers in user's list is:-\")\n",
        "  print(list_user_positive)\n",
        "positive_list()"
      ],
      "metadata": {
        "colab": {
          "base_uri": "https://localhost:8080/"
        },
        "id": "tOfJv3y8Im0y",
        "outputId": "5098711c-55be-4434-a569-45cdb727c89e"
      },
      "execution_count": 33,
      "outputs": [
        {
          "output_type": "stream",
          "name": "stdout",
          "text": [
            "Enter the total number of elements you want in the list : 4\n",
            "Enter any integer values:-\n",
            "Enter the  1  element of the list : \n",
            "7\n",
            "Enter the  2  element of the list : \n",
            "-8\n",
            "Enter the  3  element of the list : \n",
            "9\n",
            "Enter the  4  element of the list : \n",
            "10\n",
            "The list created by the user is :-\n",
            "[7, -8, 9, 10]\n",
            "The positive integer numbers list of the numbers in user's list is:-\n",
            "[7, 9, 10]\n"
          ]
        }
      ]
    },
    {
      "cell_type": "code",
      "source": [
        "positive_list()"
      ],
      "metadata": {
        "colab": {
          "base_uri": "https://localhost:8080/"
        },
        "id": "O3IfGE9OKQZp",
        "outputId": "5f788cdc-345d-4298-ba42-012c8006ba3e"
      },
      "execution_count": 34,
      "outputs": [
        {
          "output_type": "stream",
          "name": "stdout",
          "text": [
            "Enter the total number of elements you want in the list : 8\n",
            "Enter any integer values:-\n",
            "Enter the  1  element of the list : \n",
            "-1\n",
            "Enter the  2  element of the list : \n",
            "2\n",
            "Enter the  3  element of the list : \n",
            "4\n",
            "Enter the  4  element of the list : \n",
            "4\n",
            "Enter the  5  element of the list : \n",
            "6\n",
            "Enter the  6  element of the list : \n",
            "8\n",
            "Enter the  7  element of the list : \n",
            "9\n",
            "Enter the  8  element of the list : \n",
            "10\n",
            "The list created by the user is :-\n",
            "[-1, 2, 4, 4, 6, 8, 9, 10]\n",
            "The positive integer numbers list of the numbers in user's list is:-\n",
            "[2, 4, 4, 6, 8, 9, 10]\n"
          ]
        }
      ]
    },
    {
      "cell_type": "code",
      "source": [
        ""
      ],
      "metadata": {
        "id": "-ddA9259Mqtg"
      },
      "execution_count": null,
      "outputs": []
    }
  ]
}