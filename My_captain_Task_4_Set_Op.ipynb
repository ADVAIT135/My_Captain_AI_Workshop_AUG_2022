{
  "nbformat": 4,
  "nbformat_minor": 0,
  "metadata": {
    "colab": {
      "name": "My_captain_Task_4_Set_Op.ipynb",
      "provenance": [],
      "authorship_tag": "ABX9TyNGJEBu6jkUzoqV1rG9NOzB",
      "include_colab_link": true
    },
    "kernelspec": {
      "name": "python3",
      "display_name": "Python 3"
    },
    "language_info": {
      "name": "python"
    }
  },
  "cells": [
    {
      "cell_type": "markdown",
      "metadata": {
        "id": "view-in-github",
        "colab_type": "text"
      },
      "source": [
        "<a href=\"https://colab.research.google.com/github/ADVAIT135/My_Captain_AI_Workshop_AUG_2022/blob/main/My_captain_Task_4_Set_Op.ipynb\" target=\"_parent\"><img src=\"https://colab.research.google.com/assets/colab-badge.svg\" alt=\"Open In Colab\"/></a>"
      ]
    },
    {
      "cell_type": "code",
      "execution_count": 9,
      "metadata": {
        "colab": {
          "base_uri": "https://localhost:8080/"
        },
        "id": "dlveOhsGY3bn",
        "outputId": "2df3fbc7-8522-4368-8cf0-45191e2370b1"
      },
      "outputs": [
        {
          "output_type": "stream",
          "name": "stdout",
          "text": [
            "Enter the total number of elements you want to have in set 1 and set 2 respectively :-\n",
            "Set 1 :\n",
            "6\n",
            "Set 2 :\n",
            "5\n",
            "Enter the elements in Set 1 :-\n",
            "Enter the value of  1  element in Set 1\n",
            "9\n",
            "Enter the value of  2  element in Set 1\n",
            "10\n",
            "Enter the value of  3  element in Set 1\n",
            "12\n",
            "Enter the value of  4  element in Set 1\n",
            "16\n",
            "Enter the value of  5  element in Set 1\n",
            "20\n",
            "Enter the value of  6  element in Set 1\n",
            "21\n",
            "Enter the elements in Set 2 :-\n",
            "Enter the value of  1  element in Set 2\n",
            "10\n",
            "Enter the value of  2  element in Set 2\n",
            "9\n",
            "Enter the value of  3  element in Set 2\n",
            "6\n",
            "Enter the value of  4  element in Set 2\n",
            "8\n",
            "Enter the value of  5  element in Set 2\n",
            "14\n",
            "The two lists are :-\n",
            "List 1 :  [9, 10, 12, 16, 20, 21]\n",
            "List 2 :  [10, 9, 6, 8, 14]\n",
            "The two sets are :-\n",
            "Set 1 :  {9, 10, 12, 16, 20, 21}\n",
            "Set 2 :  {6, 8, 9, 10, 14}\n",
            "Union of Set 1 and Set 2 is :  {6, 8, 9, 10, 12, 14, 16, 20, 21}\n",
            "Intersection of Set 1 and Set 2 is :  {9, 10}\n",
            "Difference of Set 1 and Set 2 is :  {16, 21, 12, 20}\n",
            "Symmetric Difference of Set 1 and Set 2 is :  {6, 8, 12, 14, 16, 20, 21}\n"
          ]
        }
      ],
      "source": [
        "def set_op():\n",
        "  print(\"Enter the total number of elements you want to have in set 1 and set 2 respectively :-\")\n",
        "  print(\"Set 1 :\")\n",
        "  set_1_size = int(input())\n",
        "  print(\"Set 2 :\")\n",
        "  set_2_size = int(input())\n",
        "  list_1 = []\n",
        "  list_2 = []\n",
        "  print(\"Enter the elements in Set 1 :-\")\n",
        "  for i in range(1,set_1_size+1):\n",
        "    print(\"Enter the value of \",i,\" element in Set 1\")\n",
        "    element_1 = int(input())\n",
        "    list_1.append(element_1)\n",
        "  print(\"Enter the elements in Set 2 :-\")\n",
        "  for i in range(1,set_2_size+1):\n",
        "    print(\"Enter the value of \",i,\" element in Set 2\")\n",
        "    element_2 = int(input())\n",
        "    list_2.append(element_2)\n",
        "  print(\"The two lists are :-\")\n",
        "  print(\"List 1 : \", list_1)\n",
        "  print(\"List 2 : \", list_2)\n",
        "  print(\"The two sets are :-\")\n",
        "  set_1 = set(list_1)\n",
        "  set_2 = set(list_2)\n",
        "  print(\"Set 1 : \", set_1)\n",
        "  print(\"Set 2 : \", set_2)\n",
        "  print(\"Union of Set 1 and Set 2 is : \", (set_1 | set_2))\n",
        "  print(\"Intersection of Set 1 and Set 2 is : \", (set_1 & set_2))\n",
        "  print(\"Difference of Set 1 and Set 2 is : \", (set_1 - set_2))\n",
        "  print(\"Symmetric Difference of Set 1 and Set 2 is : \", (set_1 ^ set_2))\n",
        "set_op()  "
      ]
    },
    {
      "cell_type": "code",
      "source": [
        "set_op()"
      ],
      "metadata": {
        "colab": {
          "base_uri": "https://localhost:8080/"
        },
        "id": "aHzLib5dbPR8",
        "outputId": "1607bab1-b240-4bf9-9fcb-f35acb7d6f64"
      },
      "execution_count": 10,
      "outputs": [
        {
          "output_type": "stream",
          "name": "stdout",
          "text": [
            "Enter the total number of elements you want to have in set 1 and set 2 respectively :-\n",
            "Set 1 :\n",
            "4\n",
            "Set 2 :\n",
            "4\n",
            "Enter the elements in Set 1 :-\n",
            "Enter the value of  1  element in Set 1\n",
            "0\n",
            "Enter the value of  2  element in Set 1\n",
            "2\n",
            "Enter the value of  3  element in Set 1\n",
            "4\n",
            "Enter the value of  4  element in Set 1\n",
            "6\n",
            "Enter the elements in Set 2 :-\n",
            "Enter the value of  1  element in Set 2\n",
            "1\n",
            "Enter the value of  2  element in Set 2\n",
            "3\n",
            "Enter the value of  3  element in Set 2\n",
            "5\n",
            "Enter the value of  4  element in Set 2\n",
            "7\n",
            "The two lists are :-\n",
            "List 1 :  [0, 2, 4, 6]\n",
            "List 2 :  [1, 3, 5, 7]\n",
            "The two sets are :-\n",
            "Set 1 :  {0, 2, 4, 6}\n",
            "Set 2 :  {1, 3, 5, 7}\n",
            "Union of Set 1 and Set 2 is :  {0, 1, 2, 3, 4, 5, 6, 7}\n",
            "Intersection of Set 1 and Set 2 is :  set()\n",
            "Difference of Set 1 and Set 2 is :  {0, 2, 4, 6}\n",
            "Symmetric Difference of Set 1 and Set 2 is :  {0, 1, 2, 3, 4, 5, 6, 7}\n"
          ]
        }
      ]
    },
    {
      "cell_type": "code",
      "source": [
        "set_op()"
      ],
      "metadata": {
        "colab": {
          "base_uri": "https://localhost:8080/"
        },
        "id": "FM_s4t1Vdkrb",
        "outputId": "c53aae44-e6be-4146-b3f2-dda82d88d89a"
      },
      "execution_count": 11,
      "outputs": [
        {
          "output_type": "stream",
          "name": "stdout",
          "text": [
            "Enter the total number of elements you want to have in set 1 and set 2 respectively :-\n",
            "Set 1 :\n",
            "5\n",
            "Set 2 :\n",
            "5\n",
            "Enter the elements in Set 1 :-\n",
            "Enter the value of  1  element in Set 1\n",
            "0\n",
            "Enter the value of  2  element in Set 1\n",
            "2\n",
            "Enter the value of  3  element in Set 1\n",
            "4\n",
            "Enter the value of  4  element in Set 1\n",
            "6\n",
            "Enter the value of  5  element in Set 1\n",
            "8\n",
            "Enter the elements in Set 2 :-\n",
            "Enter the value of  1  element in Set 2\n",
            "0\n",
            "Enter the value of  2  element in Set 2\n",
            "1\n",
            "Enter the value of  3  element in Set 2\n",
            "2\n",
            "Enter the value of  4  element in Set 2\n",
            "3\n",
            "Enter the value of  5  element in Set 2\n",
            "5\n",
            "The two lists are :-\n",
            "List 1 :  [0, 2, 4, 6, 8]\n",
            "List 2 :  [0, 1, 2, 3, 5]\n",
            "The two sets are :-\n",
            "Set 1 :  {0, 2, 4, 6, 8}\n",
            "Set 2 :  {0, 1, 2, 3, 5}\n",
            "Union of Set 1 and Set 2 is :  {0, 1, 2, 3, 4, 5, 6, 8}\n",
            "Intersection of Set 1 and Set 2 is :  {0, 2}\n",
            "Difference of Set 1 and Set 2 is :  {8, 4, 6}\n",
            "Symmetric Difference of Set 1 and Set 2 is :  {1, 3, 4, 5, 6, 8}\n"
          ]
        }
      ]
    },
    {
      "cell_type": "code",
      "source": [
        "set_op()"
      ],
      "metadata": {
        "colab": {
          "base_uri": "https://localhost:8080/"
        },
        "id": "e98Jv6Iyg8Kx",
        "outputId": "4ca66396-7a39-425d-f375-16e5eea0d5d6"
      },
      "execution_count": 12,
      "outputs": [
        {
          "output_type": "stream",
          "name": "stdout",
          "text": [
            "Enter the total number of elements you want to have in set 1 and set 2 respectively :-\n",
            "Set 1 :\n",
            "5\n",
            "Set 2 :\n",
            "5\n",
            "Enter the elements in Set 1 :-\n",
            "Enter the value of  1  element in Set 1\n",
            "0\n",
            "Enter the value of  2  element in Set 1\n",
            "2\n",
            "Enter the value of  3  element in Set 1\n",
            "4\n",
            "Enter the value of  4  element in Set 1\n",
            "6\n",
            "Enter the value of  5  element in Set 1\n",
            "8\n",
            "Enter the elements in Set 2 :-\n",
            "Enter the value of  1  element in Set 2\n",
            "1\n",
            "Enter the value of  2  element in Set 2\n",
            "2\n",
            "Enter the value of  3  element in Set 2\n",
            "3\n",
            "Enter the value of  4  element in Set 2\n",
            "4\n",
            "Enter the value of  5  element in Set 2\n",
            "5\n",
            "The two lists are :-\n",
            "List 1 :  [0, 2, 4, 6, 8]\n",
            "List 2 :  [1, 2, 3, 4, 5]\n",
            "The two sets are :-\n",
            "Set 1 :  {0, 2, 4, 6, 8}\n",
            "Set 2 :  {1, 2, 3, 4, 5}\n",
            "Union of Set 1 and Set 2 is :  {0, 1, 2, 3, 4, 5, 6, 8}\n",
            "Intersection of Set 1 and Set 2 is :  {2, 4}\n",
            "Difference of Set 1 and Set 2 is :  {0, 8, 6}\n",
            "Symmetric Difference of Set 1 and Set 2 is :  {0, 1, 3, 5, 6, 8}\n"
          ]
        }
      ]
    },
    {
      "cell_type": "code",
      "source": [
        ""
      ],
      "metadata": {
        "id": "q-dteh36hVnn"
      },
      "execution_count": null,
      "outputs": []
    }
  ]
}